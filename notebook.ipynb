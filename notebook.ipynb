{
 "cells": [
  {
   "cell_type": "code",
   "execution_count": null,
   "metadata": {},
   "outputs": [],
   "source": [
    "active_and_topics ='''\n",
    "[ '1091862409918025761', '1091862649320509440' ]\n",
    "'''\n",
    "\n",
    "archived = '''\n",
    "[ '1091862553933643848' ]\n",
    "'''\n",
    "\n",
    "channels = '''\n",
    "[\n",
    "  '1091862261519351983',\n",
    "  '1091862261519351984',\n",
    "  '1091862473675653121',\n",
    "  '1091863257616232600'\n",
    "]\n",
    "'''"
   ]
  },
  {
   "cell_type": "code",
   "execution_count": null,
   "metadata": {},
   "outputs": [],
   "source": [
    "import ast\n",
    "\n",
    "merged_arr = ast.literal_eval(active_and_topics) + ast.literal_eval(archived) + ast.literal_eval(channels)\n",
    "sorted_arr = sorted(merged_arr, key=int)\n",
    "\n",
    "print(sorted_arr)"
   ]
  },
  {
   "cell_type": "code",
   "execution_count": null,
   "metadata": {},
   "outputs": [],
   "source": [
    "\n",
    "path = r\"E:\\AI\\miatiadev\\discord_ids\\CLI\\DiscordChatExporter.Cli.dll\"\n",
    "token = r\"oihfoishfovihdsoiuvhsoiuhvoiesdhfvohdsoivhdsoihvoids\"\n",
    "output_path = r\"E:\\AI\\miatiadev\\discord_ids\\CLI\\outputs\"\n",
    "file_format = r\"JSON\"\n",
    "\n",
    "for channel_id in sorted_arr:\n",
    "    print(channel_id)\n",
    "    !dotnet $path export -c $channel_id -f $file_format -t $token -o $output_path --media --reuse-media"
   ]
  },
  {
   "attachments": {},
   "cell_type": "markdown",
   "metadata": {},
   "source": [
    "## テスト用"
   ]
  },
  {
   "cell_type": "code",
   "execution_count": null,
   "metadata": {},
   "outputs": [],
   "source": [
    "# 指定したチャンネルのみ落とす\n",
    "path = r\"E:\\AI\\miatiadev\\discord_ids\\CLI\\DiscordChatExporter.Cli.dll\"\n",
    "token = r\"dsuhnfiudwshiuvnhewoiufhnciuewhnfviuewhnfviuewhniufvehniufhew\"\n",
    "output_path = r\"E:\\AI\\miatiadev\\discord_ids\\CLI\\outputs\"\n",
    "file_format = r\"JSON\"\n",
    "channel_id = 9712678945623\n",
    "\n",
    "!dotnet $path export -c $channel_id -f $file_format -t $token -o $output_path --media --reuse-media"
   ]
  }
 ],
 "metadata": {
  "kernelspec": {
   "display_name": "Python 3",
   "language": "python",
   "name": "python3"
  },
  "language_info": {
   "codemirror_mode": {
    "name": "ipython",
    "version": 3
   },
   "file_extension": ".py",
   "mimetype": "text/x-python",
   "name": "python",
   "nbconvert_exporter": "python",
   "pygments_lexer": "ipython3",
   "version": "3.10.9"
  },
  "orig_nbformat": 4
 },
 "nbformat": 4,
 "nbformat_minor": 2
}
